{
 "cells": [
  {
   "cell_type": "markdown",
   "id": "c593e910",
   "metadata": {},
   "source": [
    "# SMS-Spam-Classifier\n",
    "\n",
    "The SMS-Spam-Classifier project utilizes TensorFlow's natural language processing (NLP) capabilities to create separate classification model. A deep learning model is trained using a pre-labeled dataset. This model is designed to learn patterns, features, and characteristics specific to spam messages, enabling it to make informed predictions about new, unseen messages."
   ]
  },
  {
   "cell_type": "code",
   "execution_count": 109,
   "id": "91d8262a",
   "metadata": {},
   "outputs": [],
   "source": [
    "# Import required libraries\n",
    "import pandas as pd\n",
    "import os\n",
    "import numpy as np\n",
    "import matplotlib.pyplot as plt\n",
    "\n",
    "import tensorflow as tf\n",
    "from tensorflow import keras\n",
    "from tensorflow.keras import optimizers\n",
    "from tensorflow.keras.regularizers import l2\n",
    "\n",
    "import nltk\n",
    "# Download necessary NLTK resources if needed\n",
    "#nltk.download('stopwords')\n",
    "#nltk.download('punkt')\n",
    "#nltk.download('wordnet')\n",
    "#nltk.download('omw-1.4')\n",
    "from nltk.corpus import stopwords\n",
    "from nltk.stem import WordNetLemmatizer\n",
    "\n",
    "from sklearn import preprocessing\n",
    "from sklearn.model_selection import train_test_split\n",
    "from sklearn.preprocessing import scale\n",
    "from sklearn.feature_extraction.text import TfidfVectorizer"
   ]
  },
  {
   "cell_type": "markdown",
   "id": "e3f1e131",
   "metadata": {},
   "source": [
    "## 1. Load and explore the original Spam classification dataset\n",
    "\n",
    "In this section the Spam classification dataset is loaded, followed by some exploratory statistics to gain insights into its contents and characteristics."
   ]
  },
  {
   "cell_type": "code",
   "execution_count": 110,
   "id": "08900f4b",
   "metadata": {},
   "outputs": [
    {
     "name": "stdout",
     "output_type": "stream",
     "text": [
      "\n",
      "Loaded Data :\n",
      "------------------------------------\n",
      "Dimensions of the dataset: (1500, 2)\n",
      "Summary statistics:\n",
      "        CLASS                     SMS\n",
      "count   1500                    1500\n",
      "unique     2                    1388\n",
      "top      ham  Sorry, I'll call later\n",
      "freq     752                       6\n",
      "Sample records:\n",
      "   CLASS                                                SMS\n",
      "0   ham   said kiss, kiss, i can't do the sound effects...\n",
      "1   ham      &lt;#&gt; ISH MINUTES WAS 5 MINUTES AGO. WTF.\n",
      "2  spam  (Bank of Granite issues Strong-Buy) EXPLOSIVE ...\n",
      "3  spam  * FREE* POLYPHONIC RINGTONE Text SUPER to 8713...\n",
      "4  spam  **FREE MESSAGE**Thanks for using the Auction S...\n"
     ]
    }
   ],
   "source": [
    "#Load Spam Data and review content\n",
    "data = pd.read_csv(\"Spam-Classification.csv\")\n",
    "\n",
    "print(\"\\nLoaded Data :\\n------------------------------------\")\n",
    "print(\"Dimensions of the dataset:\", data.shape)\n",
    "print(\"Summary statistics:\\n\", data.describe())\n",
    "print(\"Sample records:\\n\", data.head())"
   ]
  },
  {
   "cell_type": "markdown",
   "id": "9674c1b1",
   "metadata": {},
   "source": [
    "The dataset consists of two variables - SMS and CLASS and contains 1500 messages. There are 1388 unique messages. The message with highest frquency is \"Sorry, I'll call later\"."
   ]
  },
  {
   "cell_type": "code",
   "execution_count": 111,
   "id": "352d24b9",
   "metadata": {},
   "outputs": [
    {
     "data": {
      "image/png": "[encoded data removed]",
      "text/plain": [
       "<Figure size 640x480 with 1 Axes>"
      ]
     },
     "metadata": {},
     "output_type": "display_data"
    }
   ],
   "source": [
    "# Create a barplot to visualise number of spam/ham messages in the dataset\n",
    "plt.bar(data['CLASS'].value_counts().index, data['CLASS'].value_counts().values)\n",
    "\n",
    "# Add labels and title\n",
    "plt.xlabel('Class')\n",
    "plt.ylabel('Count')\n",
    "plt.title('Distribution of SMS Spam CLASS')\n",
    "\n",
    "# Add exact numbers for each class\n",
    "for i, count in enumerate(data['CLASS'].value_counts().values):\n",
    "    plt.text(i, count, str(count), ha='center', va='bottom')\n",
    "\n",
    "\n",
    "# Show the plot\n",
    "plt.show()"
   ]
  },
  {
   "cell_type": "markdown",
   "id": "ed9e7343",
   "metadata": {},
   "source": [
    "From the barchart above it is evident that the dataset contains an equal distribution of spam and ham messages, which is advantageous because it eliminates the need for stratification based on the target variable when dividing the dataset into training and testing sets."
   ]
  },
  {
   "cell_type": "markdown",
   "id": "4e828541",
   "metadata": {},
   "source": [
    "## 2. Train a machine learning model using TensorFlow"
   ]
  },
  {
   "cell_type": "markdown",
   "id": "f40c3a4f",
   "metadata": {},
   "source": [
    "### 2.1. Creating Text Representations\n",
    "\n",
    "Text data needs to be converted to numeric representations before they can be used to train deep learning models. The Spam classification feature data is converted to TF-IDF vectors and the target variable is converted to one-hot encoding."
   ]
  },
  {
   "cell_type": "code",
   "execution_count": 112,
   "id": "dc98d9f7",
   "metadata": {},
   "outputs": [],
   "source": [
    "# Create an instance of WordNetLemmatizer\n",
    "lemmatizer = WordNetLemmatizer() "
   ]
  },
  {
   "cell_type": "code",
   "execution_count": 113,
   "id": "4600ff7f",
   "metadata": {},
   "outputs": [],
   "source": [
    "#Custom tokenizer to remove stopwords and use lemmatization\n",
    "def customtokenize(str):\n",
    "    #Split string as tokens\n",
    "    tokens=nltk.word_tokenize(str)\n",
    "    #Filter for stopwords\n",
    "    nostop = list(filter(lambda token: token not in stopwords.words('english'), tokens))\n",
    "    #Perform lemmatization\n",
    "    lemmatized=[lemmatizer.lemmatize(word) for word in nostop ]\n",
    "    return lemmatized"
   ]
  },
  {
   "cell_type": "code",
   "execution_count": 114,
   "id": "ea4837f3",
   "metadata": {},
   "outputs": [],
   "source": [
    "#Separate feature and target data\n",
    "spam_classes_raw = data[\"CLASS\"]\n",
    "spam_messages = data[\"SMS\"]"
   ]
  },
  {
   "cell_type": "code",
   "execution_count": 115,
   "id": "08e9ab83",
   "metadata": {},
   "outputs": [],
   "source": [
    "#Build a TF-IDF Vectorizer model\n",
    "vectorizer = TfidfVectorizer(tokenizer=customtokenize)\n",
    "\n",
    "#Transform feature input to TF-IDF\n",
    "tfidf=vectorizer.fit_transform(spam_messages)\n",
    "\n",
    "#Convert TF-IDF to numpy array\n",
    "tfidf_array = tfidf.toarray()"
   ]
  },
  {
   "cell_type": "code",
   "execution_count": 116,
   "id": "64202dcd",
   "metadata": {},
   "outputs": [
    {
     "name": "stdout",
     "output_type": "stream",
     "text": [
      "TF-IDF Matrix Shape :  (1500, 4569)\n",
      "One-hot Encoding Shape :  (1500, 2)\n"
     ]
    }
   ],
   "source": [
    "#Build a label encoder for target variable to convert strings to numeric values.\n",
    "label_encoder = preprocessing.LabelEncoder()\n",
    "spam_classes = label_encoder.fit_transform(spam_classes_raw)\n",
    "\n",
    "#Convert target to one-hot encoding vector\n",
    "spam_classes = tf.keras.utils.to_categorical(spam_classes,2)\n",
    "\n",
    "print(\"TF-IDF Matrix Shape : \", tfidf.shape)\n",
    "print(\"One-hot Encoding Shape : \", spam_classes.shape)\n",
    "\n",
    "X_train,X_test,Y_train,Y_test = train_test_split( tfidf_array, spam_classes, test_size=0.10)"
   ]
  },
  {
   "cell_type": "markdown",
   "id": "ef31f2b1",
   "metadata": {},
   "source": [
    "The TF-IDF matrix, which represents a collection of samples using the TF-IDF numerical representation, has a shape of (1500, 4569). In this context, \"1500\" refers to the number of samples (SMS messages) in the collection, and \"4569\" represents the total number of unique terms or features extracted from those documents. Each message is represented as a row in the matrix, and each unique term is represented as a column.\n",
    "\n",
    "The target variable CLASS has been one-hot-encoded, and the resulting one-hot encoded matrix has a shape of (1500, 2). In one-hot encoding, categorical variables are represented as binary vectors where each category is represented by a separate binary feature. In this case, there are 2 categories in the dataset (spam/ham). The one-hot encoded matrix has 1500 rows, indicating that there are 1500 samples (SMS messages) in the dataset. Each message is represented by a binary vector of length 2, where one element is 1 and the rest are 0, indicating the presence or absence of a specific category."
   ]
  },
  {
   "cell_type": "markdown",
   "id": "585a983f",
   "metadata": {},
   "source": [
    "### 2.2. Create a deep learning model"
   ]
  },
  {
   "cell_type": "code",
   "execution_count": 139,
   "id": "d927db5d",
   "metadata": {},
   "outputs": [
    {
     "name": "stdout",
     "output_type": "stream",
     "text": [
      "Model: \"sequential_12\"\n",
      "_________________________________________________________________\n",
      "Layer (type)                 Output Shape              Param #   \n",
      "=================================================================\n",
      "Hidden-Layer-1 (Dense)       (None, 32)                146240    \n",
      "_________________________________________________________________\n",
      "Hidden-Layer-2 (Dense)       (None, 32)                1056      \n",
      "_________________________________________________________________\n",
      "Output-Layer (Dense)         (None, 2)                 66        \n",
      "=================================================================\n",
      "Total params: 147,362\n",
      "Trainable params: 147,362\n",
      "Non-trainable params: 0\n",
      "_________________________________________________________________\n"
     ]
    }
   ],
   "source": [
    "#Setup Hyper Parameters for building the model\n",
    "NB_CLASSES=2\n",
    "N_HIDDEN=32\n",
    "\n",
    "# Build a sequential model\n",
    "model = tf.keras.models.Sequential()\n",
    "\n",
    "model.add(keras.layers.Dense(N_HIDDEN,\n",
    "                             input_shape=(X_train.shape[1],),\n",
    "                              name='Hidden-Layer-1',\n",
    "                              activation='relu'))\n",
    "\n",
    "model.add(keras.layers.Dense(N_HIDDEN,\n",
    "                              name='Hidden-Layer-2',\n",
    "                              activation='relu'))\n",
    "\n",
    "model.add(keras.layers.Dense(NB_CLASSES,\n",
    "                             name='Output-Layer',\n",
    "                             activation='softmax'))\n",
    "\n",
    "model.compile(loss='categorical_crossentropy', metrics=['accuracy',#'precision', \n",
    "                                                        #'recall', \n",
    "                                                        #'f1', \n",
    "                                                        'AUC'])\n",
    "\n",
    "model.summary()"
   ]
  },
  {
   "cell_type": "markdown",
   "id": "d20b1d58",
   "metadata": {},
   "source": [
    "The model used is a sequential neural network with three layers: two hidden layers and one output layer. The hidden layers have 32 units each. The total number of parameters in the model is 147,362, and all of them are trainable."
   ]
  },
  {
   "cell_type": "markdown",
   "id": "4c2e95e3",
   "metadata": {},
   "source": [
    "### 2.3. Train the model"
   ]
  },
  {
   "cell_type": "code",
   "execution_count": 140,
   "id": "294ceb7c",
   "metadata": {},
   "outputs": [
    {
     "name": "stdout",
     "output_type": "stream",
     "text": [
      "\n",
      "Training Progress:\n",
      "------------------------------------\n",
      "Epoch 1/10\n",
      "5/5 [==============================] - 0s 79ms/step - loss: 0.6830 - accuracy: 0.6435 - auc: 0.7370 - val_loss: 0.6562 - val_accuracy: 0.9148 - val_auc: 0.9723\n",
      "Epoch 2/10\n",
      "5/5 [==============================] - 0s 9ms/step - loss: 0.6306 - accuracy: 0.9546 - auc: 0.9898 - val_loss: 0.6047 - val_accuracy: 0.9593 - val_auc: 0.9882\n",
      "Epoch 3/10\n",
      "5/5 [==============================] - 0s 10ms/step - loss: 0.5638 - accuracy: 0.9787 - auc: 0.9974 - val_loss: 0.5480 - val_accuracy: 0.9593 - val_auc: 0.9907\n",
      "Epoch 4/10\n",
      "5/5 [==============================] - 0s 11ms/step - loss: 0.4949 - accuracy: 0.9806 - auc: 0.9988 - val_loss: 0.4935 - val_accuracy: 0.9704 - val_auc: 0.9940\n",
      "Epoch 5/10\n",
      "5/5 [==============================] - 0s 7ms/step - loss: 0.4281 - accuracy: 0.9843 - auc: 0.9993 - val_loss: 0.4396 - val_accuracy: 0.9593 - val_auc: 0.9942\n",
      "Epoch 6/10\n",
      "5/5 [==============================] - 0s 7ms/step - loss: 0.3663 - accuracy: 0.9861 - auc: 0.9995 - val_loss: 0.3926 - val_accuracy: 0.9667 - val_auc: 0.9953\n",
      "Epoch 7/10\n",
      "5/5 [==============================] - 0s 10ms/step - loss: 0.3108 - accuracy: 0.9889 - auc: 0.9997 - val_loss: 0.3493 - val_accuracy: 0.9667 - val_auc: 0.9956\n",
      "Epoch 8/10\n",
      "5/5 [==============================] - 0s 10ms/step - loss: 0.2620 - accuracy: 0.9935 - auc: 0.9998 - val_loss: 0.3119 - val_accuracy: 0.9704 - val_auc: 0.9956\n",
      "Epoch 9/10\n",
      "5/5 [==============================] - 0s 8ms/step - loss: 0.2190 - accuracy: 0.9944 - auc: 0.9998 - val_loss: 0.2775 - val_accuracy: 0.9704 - val_auc: 0.9957\n",
      "Epoch 10/10\n",
      "5/5 [==============================] - 0s 10ms/step - loss: 0.1821 - accuracy: 0.9944 - auc: 0.9999 - val_loss: 0.2478 - val_accuracy: 0.9704 - val_auc: 0.9957\n",
      "\n",
      "Accuracy during Training :\n",
      "------------------------------------\n"
     ]
    },
    {
     "data": {
      "image/png": "[encoded data removed]",
      "text/plain": [
       "<Figure size 800x500 with 1 Axes>"
      ]
     },
     "metadata": {},
     "output_type": "display_data"
    }
   ],
   "source": [
    "#Make it verbose so we can see the progress\n",
    "VERBOSE=1\n",
    "\n",
    "#Setup Hyper Parameters for training\n",
    "BATCH_SIZE=256\n",
    "EPOCHS=10\n",
    "VALIDATION_SPLIT=0.2\n",
    "\n",
    "print(\"\\nTraining Progress:\\n------------------------------------\")\n",
    "\n",
    "history=model.fit(X_train,\n",
    "          Y_train,\n",
    "          batch_size=BATCH_SIZE,\n",
    "          epochs=EPOCHS,\n",
    "          verbose=VERBOSE,\n",
    "          validation_split=VALIDATION_SPLIT)\n",
    "\n",
    "print(\"\\nAccuracy during Training :\\n------------------------------------\")\n",
    "\n",
    "pd.DataFrame(history.history)[\"accuracy\"].plot(figsize=(8, 5), )\n",
    "pd.DataFrame(history.history)[\"val_accuracy\"].plot(figsize=(8, 5),)\n",
    "plt.title(\"Accuracy improvements with Epoch\")\n",
    "plt.xlabel(\"Epochs\")\n",
    "plt.legend(['Train Accuracy', 'Validation accuracy'])\n",
    "plt.show()"
   ]
  },
  {
   "cell_type": "markdown",
   "id": "097ac8c3",
   "metadata": {},
   "source": [
    "The model was trained for 10 epochs. During training, the loss decreased gradually, indicating that the model was learning. The accuracy increased consistently, reaching 97.04% at the end of training. The AUC (Area Under the Curve) metric also improved over time, indicating that the model's performance in distinguishing between classes improved. The validation results showed similar trends, with high accuracy and AUC values, demonstrating good generalization of the model to unseen data."
   ]
  },
  {
   "cell_type": "markdown",
   "id": "1674f38b",
   "metadata": {},
   "source": [
    "### 2.3. Evaluate the model's performace against the Test Dataset"
   ]
  },
  {
   "cell_type": "code",
   "execution_count": 142,
   "id": "803da55b",
   "metadata": {},
   "outputs": [
    {
     "name": "stdout",
     "output_type": "stream",
     "text": [
      "\n",
      "Evaluation against Test Dataset :\n",
      "------------------------------------\n",
      "5/5 [==============================] - 0s 2ms/step - loss: 0.2430 - accuracy: 0.9733 - auc: 0.9857\n"
     ]
    },
    {
     "data": {
      "text/plain": [
       "[0.24299980700016022, 0.9733333587646484, 0.9856888651847839]"
      ]
     },
     "execution_count": 142,
     "metadata": {},
     "output_type": "execute_result"
    }
   ],
   "source": [
    "print(\"\\nEvaluation against Test Dataset :\\n------------------------------------\")\n",
    "model.evaluate(X_test,Y_test)"
   ]
  },
  {
   "cell_type": "markdown",
   "id": "4cb5b862",
   "metadata": {},
   "source": [
    "The model was evaluated against a test dataset, achieving a loss of 0.2430, an accuracy of 97.33%, and an AUC (Area Under the Curve) of 98.57%. This mans that the model sucessfuly predicts the correct class for unseen (test) data in 97% of the cases."
   ]
  },
  {
   "cell_type": "markdown",
   "id": "1d9d4714",
   "metadata": {},
   "source": [
    "### 2.4. Predicting SMS messages\n",
    "\n",
    "Predict class for SMS messages outside the initial dataset."
   ]
  },
  {
   "cell_type": "code",
   "execution_count": 143,
   "id": "eb0bdcc1",
   "metadata": {},
   "outputs": [
    {
     "name": "stdout",
     "output_type": "stream",
     "text": [
      "(2, 4569)\n",
      "Prediction Input: ['FREE entry to a fun contest', 'Yup I will come over']\n",
      "Prediction Classes are  ['spam' 'ham']\n"
     ]
    }
   ],
   "source": [
    "input = [\"FREE entry to a fun contest\",\n",
    "         \"Yup I will come over\"]\n",
    "\n",
    "#Convert input into IF-IDF vector using the same vectorizer model\n",
    "predict_tfidf=vectorizer.transform(input).toarray()\n",
    "\n",
    "#Predict using model\n",
    "prediction=np.argmax( model.predict(predict_tfidf), axis=1 )\n",
    "\n",
    "#Print prediction classes\n",
    "print(\"Prediction Input:\" , input)\n",
    "print(\"Prediction Classes are \", label_encoder.inverse_transform(prediction))"
   ]
  }
 ],
 "metadata": {
  "kernelspec": {
   "display_name": "Python 3 (ipykernel)",
   "language": "python",
   "name": "python3"
  },
  "language_info": {
   "codemirror_mode": {
    "name": "ipython",
    "version": 3
   },
   "file_extension": ".py",
   "mimetype": "text/x-python",
   "name": "python",
   "nbconvert_exporter": "python",
   "pygments_lexer": "ipython3",
   "version": "3.8.12"
  }
 },
 "nbformat": 4,
 "nbformat_minor": 5
}
